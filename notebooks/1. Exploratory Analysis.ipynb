{
 "cells": [
  {
   "cell_type": "markdown",
   "metadata": {},
   "source": [
    "# XOPT - INTERPRETABLE METAHEURISTICS FOR COMBINATORIAL OPTIMIZATION"
   ]
  },
  {
   "cell_type": "markdown",
   "id": "c8d021bf",
   "metadata": {},
   "source": [
    "## EXPLORATORY ANALYSIS\n",
    "\n",
    "This notebook demonstrates how to compile and use the Python extension `xopt` to solve instances of the p-median problem with the `kmedoids` and `tspmed` algorithms."
   ]
  },
  {
   "cell_type": "markdown",
   "metadata": {},
   "source": [
    "### SETTING THE ENVIRONMENT"
   ]
  },
  {
   "cell_type": "markdown",
   "id": "87e34631",
   "metadata": {},
   "source": [
    "Importing the libraries:"
   ]
  },
  {
   "cell_type": "code",
   "execution_count": 1,
   "metadata": {},
   "outputs": [],
   "source": [
    "import xopt\n",
    "import numpy as np\n",
    "import matplotlib.pyplot as plt\n",
    "\n",
    "from pathlib import Path"
   ]
  },
  {
   "cell_type": "markdown",
   "id": "3bd85ec9",
   "metadata": {},
   "source": [
    "This cell locates the \"instances\" folder in the project root and counts how many p-median instance files exist:"
   ]
  },
  {
   "cell_type": "code",
   "execution_count": 2,
   "id": "a215732b",
   "metadata": {},
   "outputs": [
    {
     "name": "stdout",
     "output_type": "stream",
     "text": [
      "Total number of p-median instances: 40\n"
     ]
    }
   ],
   "source": [
    "ROOT          = Path.cwd().resolve().parent\n",
    "INSTANCES_DIR = ROOT / \"instances\"\n",
    "\n",
    "if not INSTANCES_DIR.exists():\n",
    "    raise FileNotFoundError(f\"Instances folder not found: {INSTANCES_DIR}\")\n",
    "\n",
    "print(f\"Total number of p-median instances: {len(list(INSTANCES_DIR.glob('pmed[0-9]*.txt')))}\")"
   ]
  },
  {
   "cell_type": "markdown",
   "metadata": {},
   "source": [
    "### AUXILIARY FUNCTIONS"
   ]
  },
  {
   "cell_type": "markdown",
   "id": "c0c53271",
   "metadata": {},
   "source": [
    "We define utilities to load instances, run the algorithms, and organize the results into user-friendly structures:"
   ]
  },
  {
   "cell_type": "code",
   "execution_count": 3,
   "id": "391723c4",
   "metadata": {},
   "outputs": [],
   "source": [
    "def to_one_based(indices):\n",
    "    return [v + 1 for v in indices]\n",
    "\n",
    "def to_binary(indices, n):\n",
    "    binary = [0] * n\n",
    "    for i in indices:\n",
    "        binary[i] = 1\n",
    "\n",
    "    return binary\n",
    "\n",
    "\n",
    "def solve_pmedian(instance_path, *, restarts=10, max_iter=20, factor=2):\n",
    "    instance = xopt.Instance(instance_path)\n",
    "\n",
    "    n = instance.get_n()\n",
    "    p = instance.get_p()\n",
    "\n",
    "    medoids_runs = xopt.kmedoids(\n",
    "        instance,\n",
    "        max_iter=max_iter,\n",
    "        restarts=restarts,\n",
    "    )\n",
    "\n",
    "    long_term  = xopt.SolutionTrie(n, p)\n",
    "\n",
    "    ts_results = []\n",
    "    for medoids_run in medoids_runs:\n",
    "        ts_results.append(\n",
    "            xopt.tspmed(\n",
    "                instance           ,\n",
    "                medoids_run.medoids,\n",
    "                iter_factor=factor ,\n",
    "                long_term=long_term,\n",
    "            )\n",
    "        )\n",
    "\n",
    "    best_kmedoids      = min(medoids_runs, key=lambda run: run.cost)\n",
    "    best_tspmed_result = min(ts_results  , key=lambda run: run.best.cost)\n",
    "    best_tspmed        = best_tspmed_result.best\n",
    "    long_term_mem      = long_term.get_all_solutions(instance)\n",
    "\n",
    "    summary = {\n",
    "        \"instance\" : instance_path,\n",
    "        \"n\"        : n,\n",
    "        \"p\"        : p,\n",
    "\n",
    "        \"kmedoids_cost\" : best_kmedoids.cost,\n",
    "        \"medoids\"       : to_one_based(best_kmedoids.medoids),\n",
    "\n",
    "        \"long_term_mem\"     : len(long_term_mem),\n",
    "        \"tspmed_cost\"       : best_tspmed.cost,\n",
    "        \"tspmed_facilities\" : to_one_based(best_tspmed.facilities),\n",
    "    }\n",
    "\n",
    "    details = {\n",
    "        \"medoids\": [\n",
    "            {\n",
    "                \"restart\" : idx,\n",
    "                \"cost\"    : run.cost,\n",
    "                \"medoids\" : to_binary(run.medoids, n),\n",
    "            }\n",
    "            for idx, run in enumerate(medoids_runs)\n",
    "        ],\n",
    "        \"long_term_memory\": [\n",
    "            {\n",
    "                \"cost\"       : sol.cost,\n",
    "                \"facilities\" : to_binary(sol.facilities, n),\n",
    "            }\n",
    "            for sol in long_term_mem\n",
    "        ],\n",
    "        \"tspmed\": [\n",
    "            {\n",
    "                \"restart\"    : idx,\n",
    "                \"cost\"       : result.best.cost,\n",
    "                \"facilities\" : to_binary(result.best.facilities, n),\n",
    "            }\n",
    "            for idx, result in enumerate(ts_results)\n",
    "        ],\n",
    "    }\n",
    "\n",
    "    return summary, details"
   ]
  },
  {
   "cell_type": "markdown",
   "metadata": {},
   "source": [
    "### TESTING"
   ]
  },
  {
   "cell_type": "markdown",
   "id": "a721428b",
   "metadata": {},
   "source": [
    "We selected a few classic p-median instances and recorded the results obtained:"
   ]
  },
  {
   "cell_type": "code",
   "execution_count": 4,
   "metadata": {},
   "outputs": [
    {
     "name": "stdout",
     "output_type": "stream",
     "text": [
      "Instance /home/rei-luisinho/xopt/instances/pmed1 (5-100)\n",
      "\n",
      "  K-Medoids (5819.0): [7, 13, 91, 99, 65]\n",
      "  TSPMED    (5819.0): [7, 13, 91, 99, 65]\n",
      "\n",
      "Obs.: Distinct solutions recorded in long term memory is 249!\n"
     ]
    }
   ],
   "source": [
    "instance      = \"pmed1.txt\"\n",
    "instance_path = str(INSTANCES_DIR / instance)\n",
    "\n",
    "summary, details = solve_pmedian (instance_path,\n",
    "                                  restarts=8 ,\n",
    "                                  max_iter=25,\n",
    "                                  factor=2   )\n",
    "\n",
    "print(f\"Instance {summary['instance'][:-4]} ({summary['p']}-{summary['n']})\")\n",
    "\n",
    "print()\n",
    "print(f\"  K-Medoids ({summary['kmedoids_cost']}): {summary['medoids'][:10]}\"          )\n",
    "print(f\"  TSPMED    ({summary['tspmed_cost'  ]}): {summary['tspmed_facilities'][:10]}\")\n",
    "\n",
    "print()\n",
    "print(f\"Obs.: Distinct solutions recorded in long term memory is {summary['long_term_mem']}!\")"
   ]
  },
  {
   "cell_type": "markdown",
   "metadata": {},
   "source": [
    "### LONG-TERM MEMORY"
   ]
  },
  {
   "cell_type": "code",
   "execution_count": 8,
   "id": "284855f7",
   "metadata": {},
   "outputs": [
    {
     "data": {
      "image/png": "[encoded data removed]",
      "text/plain": [
       "<Figure size 1000x600 with 2 Axes>"
      ]
     },
     "metadata": {},
     "output_type": "display_data"
    }
   ],
   "source": [
    "solutions = details[\"long_term_memory\"]\n",
    "matrix    = np.vstack(\n",
    "    [\n",
    "        np.array(sol[\"facilities\"])\n",
    "        for sol in solutions\n",
    "    ]\n",
    ")\n",
    "\n",
    "plt.figure(figsize=(10, 6))\n",
    "plt.imshow(matrix, cmap=\"binary\", aspect=\"auto\", interpolation=\"nearest\")\n",
    "\n",
    "plt.xlabel(\"Facility index\")\n",
    "plt.ylabel(\"Solution index\")\n",
    "plt.title(\"Long-term memory solutions (0 = white, 1 = black)\")\n",
    "plt.colorbar(label=\"Facility active (1) / inactive (0)\")\n",
    "\n",
    "plt.show()"
   ]
  }
 ],
 "metadata": {
  "kernelspec": {
   "display_name": ".venv",
   "language": "python",
   "name": "python3"
  },
  "language_info": {
   "codemirror_mode": {
    "name": "ipython",
    "version": 3
   },
   "file_extension": ".py",
   "mimetype": "text/x-python",
   "name": "python",
   "nbconvert_exporter": "python",
   "pygments_lexer": "ipython3",
   "version": "3.12.12"
  }
 },
 "nbformat": 4,
 "nbformat_minor": 5
}
